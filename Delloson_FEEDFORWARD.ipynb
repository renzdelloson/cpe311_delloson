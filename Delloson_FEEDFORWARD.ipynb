{
 "cells": [
  {
   "cell_type": "code",
   "execution_count": 18,
   "metadata": {},
   "outputs": [
    {
     "name": "stdout",
     "output_type": "stream",
     "text": [
      "0.39249999999999996\n"
     ]
    }
   ],
   "source": [
    "import numpy as np\n",
    "w1 = [0.25, 0.3]\n",
    "i1 = [0.05, 0.1]\n",
    "bias = 0.35\n",
    "\n",
    "def neural_network(i1, w1, bias):\n",
    "    return sum(i * w for i , w in zip(i1, w1)) + bias\n",
    "\n",
    "net_h2 = neural_network(i1, w1, bias)\n",
    "print(net_h2)"
   ]
  },
  {
   "cell_type": "code",
   "execution_count": 19,
   "metadata": {},
   "outputs": [
    {
     "name": "stdout",
     "output_type": "stream",
     "text": [
      "0.596884378259767\n"
     ]
    }
   ],
   "source": [
    "def sigmoid(x):\n",
    "    return 1 / (1 + np.exp(-x))\n",
    "\n",
    "out_h1 = 0.593269992\n",
    "out_h2 = sigmoid(net_h2)\n",
    "print(out_h2)"
   ]
  },
  {
   "cell_type": "code",
   "execution_count": 20,
   "metadata": {},
   "outputs": [
    {
     "name": "stdout",
     "output_type": "stream",
     "text": [
      "0.7729284653120564\n"
     ]
    }
   ],
   "source": [
    "w1 = [0.5, 0.55] \n",
    "i1 = [out_h1, out_h2]\n",
    "bias = 0.6\n",
    "\n",
    "def neural_network(i1, w1, bias):\n",
    "    return sum(i * w for i , w in zip(i1, w1)) + bias\n",
    "\n",
    "net_h2 = neural_network(i1, w1, bias)\n",
    "out_o2 = sigmoid(net_h2)\n",
    "print(out_o2)\n"
   ]
  }
 ],
 "metadata": {
  "kernelspec": {
   "display_name": "Python 3",
   "language": "python",
   "name": "python3"
  },
  "language_info": {
   "codemirror_mode": {
    "name": "ipython",
    "version": 3
   },
   "file_extension": ".py",
   "mimetype": "text/x-python",
   "name": "python",
   "nbconvert_exporter": "python",
   "pygments_lexer": "ipython3",
   "version": "3.12.0"
  }
 },
 "nbformat": 4,
 "nbformat_minor": 2
}
