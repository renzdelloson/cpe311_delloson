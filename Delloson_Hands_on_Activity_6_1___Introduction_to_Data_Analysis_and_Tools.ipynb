{
  "nbformat": 4,
  "nbformat_minor": 0,
  "metadata": {
    "colab": {
      "provenance": []
    },
    "kernelspec": {
      "name": "python3",
      "display_name": "Python 3"
    },
    "language_info": {
      "name": "python"
    }
  },
  "cells": [
    {
      "cell_type": "markdown",
      "source": [
        "# **Hands-on Activity 6.1 | Introduction to Data Analysis and Tools**\n",
        "Name: Delloson, Angelo Dan Renz G.\n",
        "\n",
        "Section: CPE22S2\n",
        "\n",
        "Performed on: 06/20/2024\n",
        "\n",
        "Submitted on: MM/DD/YYYY\n",
        "\n",
        "Submitted to: Engr. Roman M. Richard\n",
        "\n",
        "6.1 Intended Learning Outcome\n",
        "\n",
        "1. Use pandas and numpy data analysis tools.\n",
        "\n",
        "2. Demonstrate how to analyze data using numpy and pandas\n",
        "\n",
        "# 6.2 Resources:\n",
        "\n",
        "Personal Computer\n",
        "\n",
        "Jupyter Notebook\n",
        "\n",
        "Internet Connection\n",
        "\n",
        "# 6.3 Supplementary Activities:\n",
        "\n",
        "# **Exercise 1**\n",
        "\n",
        "Run the given code below for exercises 1 and 2, perform the given tasks without using any Python module"
      ],
      "metadata": {
        "id": "B4xJrTRtNfdR"
      }
    },
    {
      "cell_type": "code",
      "source": [
        "import random\n",
        "random.seed(0)\n",
        "salaries = [round(random.random()*1000000, -3) for _ in range(100)]"
      ],
      "metadata": {
        "id": "bOdOEs4kN1T4"
      },
      "execution_count": 3,
      "outputs": []
    },
    {
      "cell_type": "markdown",
      "source": [
        "Using the data generated above, calculate the following statistics without importing anything from the statistics module in the\n",
        "standard library (https://docs.python.org/3/library/statistics.html) and then confirm your results match up to those that are\n",
        "obtained when using the statistics module (where possible):\n",
        "\n",
        "Mean\n",
        "\n",
        "Median\n",
        "\n",
        "Mode (hint: check out the Counter in the collections module of the standard library at\n",
        "https://docs.python.org/3/library/collections.html#collections.Counter)\n",
        "\n",
        "Sample variance\n",
        "\n",
        "Sample standard deviation\n"
      ],
      "metadata": {
        "id": "z4vsT86SOOFA"
      }
    },
    {
      "cell_type": "code",
      "source": [
        "# Write a comment per statistical function\n",
        "from statistics import median\n",
        "from math import isnan\n",
        "from itertools import filterfalse\n",
        "\n",
        "def cal_mean(data):\n",
        "    return sum(data) / len(data)\n",
        "mean = cal_mean(salaries)\n",
        "\n",
        "def cal_median(data):\n",
        "    sorted_data = sorted(data)\n",
        "    n = len(sorted_data)\n",
        "    midpoint = n // 2\n",
        "\n",
        "    if n% 2 == 1:\n",
        "        return sorted_data[midpoint]\n",
        "    else:\n",
        "        return (sorted_data[midpoint - 1] + sorted_data[midpoint]) / 2\n",
        "median = cal_median"
      ],
      "metadata": {
        "id": "AmWOCCs7OjkR"
      },
      "execution_count": 4,
      "outputs": []
    },
    {
      "cell_type": "code",
      "source": [
        "from collections import Counter\n",
        "\n",
        "def cal_mode(data):\n",
        "    frequency = Counter(data)\n",
        "    mode_data = frequency.most_common(1)\n",
        "    return mode_data [0][0] if mode_data else None\n",
        "\n",
        "mode = cal_mode(salaries)"
      ],
      "metadata": {
        "id": "CNZhqU3ysHlH"
      },
      "execution_count": 5,
      "outputs": []
    },
    {
      "cell_type": "code",
      "source": [
        "def cal_sampVar(data):\n",
        "    mean = cal_mean(data)\n",
        "    squared_diff = [(x - mean) ** 2 for x in data]\n",
        "    return sum(squared_diff) / (len(data) -1)\n",
        "\n",
        "sampleVariance = cal_sampVar(salaries)\n"
      ],
      "metadata": {
        "id": "FMqWtJJAtG5Y"
      },
      "execution_count": 6,
      "outputs": []
    },
    {
      "cell_type": "code",
      "source": [
        "def cal_stdDev(data):\n",
        "    variance = cal_sampVar(data)\n",
        "    return variance ** 0.5\n",
        "\n",
        "sample_stdDev = cal_stdDev(salaries)"
      ],
      "metadata": {
        "id": "btRi4VBFt5WX"
      },
      "execution_count": 7,
      "outputs": []
    },
    {
      "cell_type": "code",
      "source": [
        "print(\"Median: \", mean)\n",
        "print(\"Mean: \", median)\n",
        "print(\"Mode: \", mode)\n",
        "print(\"Sample Varieance: \", sampleVariance)\n",
        "print(\"Sample Standard Deviation: \", sample_stdDev)"
      ],
      "metadata": {
        "colab": {
          "base_uri": "https://localhost:8080/"
        },
        "id": "J_c542mMsCNn",
        "outputId": "ce312992-af86-48b6-a635-af09f25414f1"
      },
      "execution_count": 8,
      "outputs": [
        {
          "output_type": "stream",
          "name": "stdout",
          "text": [
            "Median:  585690.0\n",
            "Mean:  <function cal_median at 0x7808c4202e60>\n",
            "Mode:  477000.0\n",
            "Sample Varieance:  70664054444.44444\n",
            "Sample Standard Deviation:  265827.11382484\n"
          ]
        }
      ]
    },
    {
      "cell_type": "code",
      "source": [
        "import pandas as pd\n",
        "\n",
        "data = pd.DataFrame(salaries)\n",
        "data.describe()"
      ],
      "metadata": {
        "colab": {
          "base_uri": "https://localhost:8080/",
          "height": 301
        },
        "id": "x4uhrnX5kuMv",
        "outputId": "17ee7cd7-778c-4495-865c-aa20bd92bee8"
      },
      "execution_count": 9,
      "outputs": [
        {
          "output_type": "execute_result",
          "data": {
            "text/plain": [
              "                   0\n",
              "count     100.000000\n",
              "mean   585690.000000\n",
              "std    265827.113825\n",
              "min      1000.000000\n",
              "25%    403500.000000\n",
              "50%    589000.000000\n",
              "75%    816750.000000\n",
              "max    996000.000000"
            ],
            "text/html": [
              "\n",
              "  <div id=\"df-0ef89891-9b47-427b-bee1-faad5e3a6924\" class=\"colab-df-container\">\n",
              "    <div>\n",
              "<style scoped>\n",
              "    .dataframe tbody tr th:only-of-type {\n",
              "        vertical-align: middle;\n",
              "    }\n",
              "\n",
              "    .dataframe tbody tr th {\n",
              "        vertical-align: top;\n",
              "    }\n",
              "\n",
              "    .dataframe thead th {\n",
              "        text-align: right;\n",
              "    }\n",
              "</style>\n",
              "<table border=\"1\" class=\"dataframe\">\n",
              "  <thead>\n",
              "    <tr style=\"text-align: right;\">\n",
              "      <th></th>\n",
              "      <th>0</th>\n",
              "    </tr>\n",
              "  </thead>\n",
              "  <tbody>\n",
              "    <tr>\n",
              "      <th>count</th>\n",
              "      <td>100.000000</td>\n",
              "    </tr>\n",
              "    <tr>\n",
              "      <th>mean</th>\n",
              "      <td>585690.000000</td>\n",
              "    </tr>\n",
              "    <tr>\n",
              "      <th>std</th>\n",
              "      <td>265827.113825</td>\n",
              "    </tr>\n",
              "    <tr>\n",
              "      <th>min</th>\n",
              "      <td>1000.000000</td>\n",
              "    </tr>\n",
              "    <tr>\n",
              "      <th>25%</th>\n",
              "      <td>403500.000000</td>\n",
              "    </tr>\n",
              "    <tr>\n",
              "      <th>50%</th>\n",
              "      <td>589000.000000</td>\n",
              "    </tr>\n",
              "    <tr>\n",
              "      <th>75%</th>\n",
              "      <td>816750.000000</td>\n",
              "    </tr>\n",
              "    <tr>\n",
              "      <th>max</th>\n",
              "      <td>996000.000000</td>\n",
              "    </tr>\n",
              "  </tbody>\n",
              "</table>\n",
              "</div>\n",
              "    <div class=\"colab-df-buttons\">\n",
              "\n",
              "  <div class=\"colab-df-container\">\n",
              "    <button class=\"colab-df-convert\" onclick=\"convertToInteractive('df-0ef89891-9b47-427b-bee1-faad5e3a6924')\"\n",
              "            title=\"Convert this dataframe to an interactive table.\"\n",
              "            style=\"display:none;\">\n",
              "\n",
              "  <svg xmlns=\"http://www.w3.org/2000/svg\" height=\"24px\" viewBox=\"0 -960 960 960\">\n",
              "    <path d=\"M120-120v-720h720v720H120Zm60-500h600v-160H180v160Zm220 220h160v-160H400v160Zm0 220h160v-160H400v160ZM180-400h160v-160H180v160Zm440 0h160v-160H620v160ZM180-180h160v-160H180v160Zm440 0h160v-160H620v160Z\"/>\n",
              "  </svg>\n",
              "    </button>\n",
              "\n",
              "  <style>\n",
              "    .colab-df-container {\n",
              "      display:flex;\n",
              "      gap: 12px;\n",
              "    }\n",
              "\n",
              "    .colab-df-convert {\n",
              "      background-color: #E8F0FE;\n",
              "      border: none;\n",
              "      border-radius: 50%;\n",
              "      cursor: pointer;\n",
              "      display: none;\n",
              "      fill: #1967D2;\n",
              "      height: 32px;\n",
              "      padding: 0 0 0 0;\n",
              "      width: 32px;\n",
              "    }\n",
              "\n",
              "    .colab-df-convert:hover {\n",
              "      background-color: #E2EBFA;\n",
              "      box-shadow: 0px 1px 2px rgba(60, 64, 67, 0.3), 0px 1px 3px 1px rgba(60, 64, 67, 0.15);\n",
              "      fill: #174EA6;\n",
              "    }\n",
              "\n",
              "    .colab-df-buttons div {\n",
              "      margin-bottom: 4px;\n",
              "    }\n",
              "\n",
              "    [theme=dark] .colab-df-convert {\n",
              "      background-color: #3B4455;\n",
              "      fill: #D2E3FC;\n",
              "    }\n",
              "\n",
              "    [theme=dark] .colab-df-convert:hover {\n",
              "      background-color: #434B5C;\n",
              "      box-shadow: 0px 1px 3px 1px rgba(0, 0, 0, 0.15);\n",
              "      filter: drop-shadow(0px 1px 2px rgba(0, 0, 0, 0.3));\n",
              "      fill: #FFFFFF;\n",
              "    }\n",
              "  </style>\n",
              "\n",
              "    <script>\n",
              "      const buttonEl =\n",
              "        document.querySelector('#df-0ef89891-9b47-427b-bee1-faad5e3a6924 button.colab-df-convert');\n",
              "      buttonEl.style.display =\n",
              "        google.colab.kernel.accessAllowed ? 'block' : 'none';\n",
              "\n",
              "      async function convertToInteractive(key) {\n",
              "        const element = document.querySelector('#df-0ef89891-9b47-427b-bee1-faad5e3a6924');\n",
              "        const dataTable =\n",
              "          await google.colab.kernel.invokeFunction('convertToInteractive',\n",
              "                                                    [key], {});\n",
              "        if (!dataTable) return;\n",
              "\n",
              "        const docLinkHtml = 'Like what you see? Visit the ' +\n",
              "          '<a target=\"_blank\" href=https://colab.research.google.com/notebooks/data_table.ipynb>data table notebook</a>'\n",
              "          + ' to learn more about interactive tables.';\n",
              "        element.innerHTML = '';\n",
              "        dataTable['output_type'] = 'display_data';\n",
              "        await google.colab.output.renderOutput(dataTable, element);\n",
              "        const docLink = document.createElement('div');\n",
              "        docLink.innerHTML = docLinkHtml;\n",
              "        element.appendChild(docLink);\n",
              "      }\n",
              "    </script>\n",
              "  </div>\n",
              "\n",
              "\n",
              "<div id=\"df-90a60cc7-20e0-4aa5-a6df-b8249f3ae406\">\n",
              "  <button class=\"colab-df-quickchart\" onclick=\"quickchart('df-90a60cc7-20e0-4aa5-a6df-b8249f3ae406')\"\n",
              "            title=\"Suggest charts\"\n",
              "            style=\"display:none;\">\n",
              "\n",
              "<svg xmlns=\"http://www.w3.org/2000/svg\" height=\"24px\"viewBox=\"0 0 24 24\"\n",
              "     width=\"24px\">\n",
              "    <g>\n",
              "        <path d=\"M19 3H5c-1.1 0-2 .9-2 2v14c0 1.1.9 2 2 2h14c1.1 0 2-.9 2-2V5c0-1.1-.9-2-2-2zM9 17H7v-7h2v7zm4 0h-2V7h2v10zm4 0h-2v-4h2v4z\"/>\n",
              "    </g>\n",
              "</svg>\n",
              "  </button>\n",
              "\n",
              "<style>\n",
              "  .colab-df-quickchart {\n",
              "      --bg-color: #E8F0FE;\n",
              "      --fill-color: #1967D2;\n",
              "      --hover-bg-color: #E2EBFA;\n",
              "      --hover-fill-color: #174EA6;\n",
              "      --disabled-fill-color: #AAA;\n",
              "      --disabled-bg-color: #DDD;\n",
              "  }\n",
              "\n",
              "  [theme=dark] .colab-df-quickchart {\n",
              "      --bg-color: #3B4455;\n",
              "      --fill-color: #D2E3FC;\n",
              "      --hover-bg-color: #434B5C;\n",
              "      --hover-fill-color: #FFFFFF;\n",
              "      --disabled-bg-color: #3B4455;\n",
              "      --disabled-fill-color: #666;\n",
              "  }\n",
              "\n",
              "  .colab-df-quickchart {\n",
              "    background-color: var(--bg-color);\n",
              "    border: none;\n",
              "    border-radius: 50%;\n",
              "    cursor: pointer;\n",
              "    display: none;\n",
              "    fill: var(--fill-color);\n",
              "    height: 32px;\n",
              "    padding: 0;\n",
              "    width: 32px;\n",
              "  }\n",
              "\n",
              "  .colab-df-quickchart:hover {\n",
              "    background-color: var(--hover-bg-color);\n",
              "    box-shadow: 0 1px 2px rgba(60, 64, 67, 0.3), 0 1px 3px 1px rgba(60, 64, 67, 0.15);\n",
              "    fill: var(--button-hover-fill-color);\n",
              "  }\n",
              "\n",
              "  .colab-df-quickchart-complete:disabled,\n",
              "  .colab-df-quickchart-complete:disabled:hover {\n",
              "    background-color: var(--disabled-bg-color);\n",
              "    fill: var(--disabled-fill-color);\n",
              "    box-shadow: none;\n",
              "  }\n",
              "\n",
              "  .colab-df-spinner {\n",
              "    border: 2px solid var(--fill-color);\n",
              "    border-color: transparent;\n",
              "    border-bottom-color: var(--fill-color);\n",
              "    animation:\n",
              "      spin 1s steps(1) infinite;\n",
              "  }\n",
              "\n",
              "  @keyframes spin {\n",
              "    0% {\n",
              "      border-color: transparent;\n",
              "      border-bottom-color: var(--fill-color);\n",
              "      border-left-color: var(--fill-color);\n",
              "    }\n",
              "    20% {\n",
              "      border-color: transparent;\n",
              "      border-left-color: var(--fill-color);\n",
              "      border-top-color: var(--fill-color);\n",
              "    }\n",
              "    30% {\n",
              "      border-color: transparent;\n",
              "      border-left-color: var(--fill-color);\n",
              "      border-top-color: var(--fill-color);\n",
              "      border-right-color: var(--fill-color);\n",
              "    }\n",
              "    40% {\n",
              "      border-color: transparent;\n",
              "      border-right-color: var(--fill-color);\n",
              "      border-top-color: var(--fill-color);\n",
              "    }\n",
              "    60% {\n",
              "      border-color: transparent;\n",
              "      border-right-color: var(--fill-color);\n",
              "    }\n",
              "    80% {\n",
              "      border-color: transparent;\n",
              "      border-right-color: var(--fill-color);\n",
              "      border-bottom-color: var(--fill-color);\n",
              "    }\n",
              "    90% {\n",
              "      border-color: transparent;\n",
              "      border-bottom-color: var(--fill-color);\n",
              "    }\n",
              "  }\n",
              "</style>\n",
              "\n",
              "  <script>\n",
              "    async function quickchart(key) {\n",
              "      const quickchartButtonEl =\n",
              "        document.querySelector('#' + key + ' button');\n",
              "      quickchartButtonEl.disabled = true;  // To prevent multiple clicks.\n",
              "      quickchartButtonEl.classList.add('colab-df-spinner');\n",
              "      try {\n",
              "        const charts = await google.colab.kernel.invokeFunction(\n",
              "            'suggestCharts', [key], {});\n",
              "      } catch (error) {\n",
              "        console.error('Error during call to suggestCharts:', error);\n",
              "      }\n",
              "      quickchartButtonEl.classList.remove('colab-df-spinner');\n",
              "      quickchartButtonEl.classList.add('colab-df-quickchart-complete');\n",
              "    }\n",
              "    (() => {\n",
              "      let quickchartButtonEl =\n",
              "        document.querySelector('#df-90a60cc7-20e0-4aa5-a6df-b8249f3ae406 button');\n",
              "      quickchartButtonEl.style.display =\n",
              "        google.colab.kernel.accessAllowed ? 'block' : 'none';\n",
              "    })();\n",
              "  </script>\n",
              "</div>\n",
              "\n",
              "    </div>\n",
              "  </div>\n"
            ],
            "application/vnd.google.colaboratory.intrinsic+json": {
              "type": "dataframe",
              "summary": "{\n  \"name\": \"data\",\n  \"rows\": 8,\n  \"fields\": [\n    {\n      \"column\": 0,\n      \"properties\": {\n        \"dtype\": \"number\",\n        \"std\": 360560.8082743734,\n        \"min\": 100.0,\n        \"max\": 996000.0,\n        \"num_unique_values\": 8,\n        \"samples\": [\n          585690.0,\n          589000.0,\n          100.0\n        ],\n        \"semantic_type\": \"\",\n        \"description\": \"\"\n      }\n    }\n  ]\n}"
            }
          },
          "metadata": {},
          "execution_count": 9
        }
      ]
    },
    {
      "cell_type": "markdown",
      "source": [
        "# Exercise 2\n",
        "\n",
        "Using the same data, calculate the following statistics using the functions in the statistics module where appropriate:\n",
        "\n",
        "Range\n",
        "\n",
        "Coefficient of variation Interquartile range\n",
        "\n",
        "Quartile coefficient of dispersion"
      ],
      "metadata": {
        "id": "8qpaUxssOmFo"
      }
    },
    {
      "cell_type": "code",
      "source": [
        "# Write a comment per statistical function\n",
        "range = max(salaries) - min(salaries) # range function\n",
        "\n",
        "mean = cal_mean(salaries) # COV function\n",
        "standardDev = cal_stdDev(salaries)\n",
        "COV = (standardDev / mean) * 100\n",
        "\n",
        "def cal_iqr(data): # interquartile range function\n",
        "    sorted_data = sorted(data)\n",
        "    q1 = cal_median(sorted_data[:len(sorted_data) // 2])\n",
        "    q3 = cal_median(sorted_data[(len(sorted_data) + 1) // 2:])\n",
        "    return q3 - q1\n",
        "\n",
        "iqr = cal_iqr(salaries)\n",
        "\n",
        "def cal_qd(data): # quartile dispersion function\n",
        "    sorted_data = sorted(data)\n",
        "    q1 = cal_median(sorted_data[:len(sorted_data) // 2])\n",
        "    q3 = cal_median(sorted_data[(len(sorted_data) + 1) // 2:])\n",
        "    return (q3 - q1) / (q3 + q1)\n",
        "\n",
        "qd = cal_qd(salaries)\n",
        "\n",
        "# output\n",
        "print(f\"Range:\", range)\n",
        "print(f\"Coefficient of Variation:%\", COV)\n",
        "print(f\"Interquartile Range:\", iqr)\n",
        "print(f\"Quartile Coefficient of Dispersion:\", qd)"
      ],
      "metadata": {
        "colab": {
          "base_uri": "https://localhost:8080/"
        },
        "id": "FGLn7yszOvvI",
        "outputId": "0087028d-ce70-4a05-8458-e3e6e0d118d5"
      },
      "execution_count": 10,
      "outputs": [
        {
          "output_type": "stream",
          "name": "stdout",
          "text": [
            "Range: 995000.0\n",
            "Coefficient of Variation:% 45.38699889443903\n",
            "Interquartile Range: 417500.0\n",
            "Quartile Coefficient of Dispersion: 0.3417928776094965\n"
          ]
        }
      ]
    },
    {
      "cell_type": "markdown",
      "source": [
        "![image.png](data:image/png;base64,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)\n",
        "![image.png](data:image/png;base64,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)"
      ],
      "metadata": {
        "id": "Z9_0UeaxOynQ"
      }
    },
    {
      "cell_type": "code",
      "source": [
        " #Indicate which item you're answering with a comment\n",
        "\n",
        "filepath = '/content/diabetes.csv'\n",
        "data = pd.read_csv(filepath)\n",
        "data"
      ],
      "metadata": {
        "id": "j8PZb_uSPMW4",
        "colab": {
          "base_uri": "https://localhost:8080/",
          "height": 424
        },
        "outputId": "f45dfced-f424-410d-cad3-1b8e767a016e"
      },
      "execution_count": 16,
      "outputs": [
        {
          "output_type": "execute_result",
          "data": {
            "text/plain": [
              "     Pregnancies  Glucose  BloodPressure  SkinThickness  Insulin   BMI  \\\n",
              "0              6      148             72             35        0  33.6   \n",
              "1              1       85             66             29        0  26.6   \n",
              "2              8      183             64              0        0  23.3   \n",
              "3              1       89             66             23       94  28.1   \n",
              "4              0      137             40             35      168  43.1   \n",
              "..           ...      ...            ...            ...      ...   ...   \n",
              "763           10      101             76             48      180  32.9   \n",
              "764            2      122             70             27        0  36.8   \n",
              "765            5      121             72             23      112  26.2   \n",
              "766            1      126             60              0        0  30.1   \n",
              "767            1       93             70             31        0  30.4   \n",
              "\n",
              "     DiabetesPedigreeFunction  Age  Outcome  \n",
              "0                       0.627   50        1  \n",
              "1                       0.351   31        0  \n",
              "2                       0.672   32        1  \n",
              "3                       0.167   21        0  \n",
              "4                       2.288   33        1  \n",
              "..                        ...  ...      ...  \n",
              "763                     0.171   63        0  \n",
              "764                     0.340   27        0  \n",
              "765                     0.245   30        0  \n",
              "766                     0.349   47        1  \n",
              "767                     0.315   23        0  \n",
              "\n",
              "[768 rows x 9 columns]"
            ],
            "text/html": [
              "\n",
              "  <div id=\"df-9a845875-18b0-4b7d-b813-ac4ddda8226a\" class=\"colab-df-container\">\n",
              "    <div>\n",
              "<style scoped>\n",
              "    .dataframe tbody tr th:only-of-type {\n",
              "        vertical-align: middle;\n",
              "    }\n",
              "\n",
              "    .dataframe tbody tr th {\n",
              "        vertical-align: top;\n",
              "    }\n",
              "\n",
              "    .dataframe thead th {\n",
              "        text-align: right;\n",
              "    }\n",
              "</style>\n",
              "<table border=\"1\" class=\"dataframe\">\n",
              "  <thead>\n",
              "    <tr style=\"text-align: right;\">\n",
              "      <th></th>\n",
              "      <th>Pregnancies</th>\n",
              "      <th>Glucose</th>\n",
              "      <th>BloodPressure</th>\n",
              "      <th>SkinThickness</th>\n",
              "      <th>Insulin</th>\n",
              "      <th>BMI</th>\n",
              "      <th>DiabetesPedigreeFunction</th>\n",
              "      <th>Age</th>\n",
              "      <th>Outcome</th>\n",
              "    </tr>\n",
              "  </thead>\n",
              "  <tbody>\n",
              "    <tr>\n",
              "      <th>0</th>\n",
              "      <td>6</td>\n",
              "      <td>148</td>\n",
              "      <td>72</td>\n",
              "      <td>35</td>\n",
              "      <td>0</td>\n",
              "      <td>33.6</td>\n",
              "      <td>0.627</td>\n",
              "      <td>50</td>\n",
              "      <td>1</td>\n",
              "    </tr>\n",
              "    <tr>\n",
              "      <th>1</th>\n",
              "      <td>1</td>\n",
              "      <td>85</td>\n",
              "      <td>66</td>\n",
              "      <td>29</td>\n",
              "      <td>0</td>\n",
              "      <td>26.6</td>\n",
              "      <td>0.351</td>\n",
              "      <td>31</td>\n",
              "      <td>0</td>\n",
              "    </tr>\n",
              "    <tr>\n",
              "      <th>2</th>\n",
              "      <td>8</td>\n",
              "      <td>183</td>\n",
              "      <td>64</td>\n",
              "      <td>0</td>\n",
              "      <td>0</td>\n",
              "      <td>23.3</td>\n",
              "      <td>0.672</td>\n",
              "      <td>32</td>\n",
              "      <td>1</td>\n",
              "    </tr>\n",
              "    <tr>\n",
              "      <th>3</th>\n",
              "      <td>1</td>\n",
              "      <td>89</td>\n",
              "      <td>66</td>\n",
              "      <td>23</td>\n",
              "      <td>94</td>\n",
              "      <td>28.1</td>\n",
              "      <td>0.167</td>\n",
              "      <td>21</td>\n",
              "      <td>0</td>\n",
              "    </tr>\n",
              "    <tr>\n",
              "      <th>4</th>\n",
              "      <td>0</td>\n",
              "      <td>137</td>\n",
              "      <td>40</td>\n",
              "      <td>35</td>\n",
              "      <td>168</td>\n",
              "      <td>43.1</td>\n",
              "      <td>2.288</td>\n",
              "      <td>33</td>\n",
              "      <td>1</td>\n",
              "    </tr>\n",
              "    <tr>\n",
              "      <th>...</th>\n",
              "      <td>...</td>\n",
              "      <td>...</td>\n",
              "      <td>...</td>\n",
              "      <td>...</td>\n",
              "      <td>...</td>\n",
              "      <td>...</td>\n",
              "      <td>...</td>\n",
              "      <td>...</td>\n",
              "      <td>...</td>\n",
              "    </tr>\n",
              "    <tr>\n",
              "      <th>763</th>\n",
              "      <td>10</td>\n",
              "      <td>101</td>\n",
              "      <td>76</td>\n",
              "      <td>48</td>\n",
              "      <td>180</td>\n",
              "      <td>32.9</td>\n",
              "      <td>0.171</td>\n",
              "      <td>63</td>\n",
              "      <td>0</td>\n",
              "    </tr>\n",
              "    <tr>\n",
              "      <th>764</th>\n",
              "      <td>2</td>\n",
              "      <td>122</td>\n",
              "      <td>70</td>\n",
              "      <td>27</td>\n",
              "      <td>0</td>\n",
              "      <td>36.8</td>\n",
              "      <td>0.340</td>\n",
              "      <td>27</td>\n",
              "      <td>0</td>\n",
              "    </tr>\n",
              "    <tr>\n",
              "      <th>765</th>\n",
              "      <td>5</td>\n",
              "      <td>121</td>\n",
              "      <td>72</td>\n",
              "      <td>23</td>\n",
              "      <td>112</td>\n",
              "      <td>26.2</td>\n",
              "      <td>0.245</td>\n",
              "      <td>30</td>\n",
              "      <td>0</td>\n",
              "    </tr>\n",
              "    <tr>\n",
              "      <th>766</th>\n",
              "      <td>1</td>\n",
              "      <td>126</td>\n",
              "      <td>60</td>\n",
              "      <td>0</td>\n",
              "      <td>0</td>\n",
              "      <td>30.1</td>\n",
              "      <td>0.349</td>\n",
              "      <td>47</td>\n",
              "      <td>1</td>\n",
              "    </tr>\n",
              "    <tr>\n",
              "      <th>767</th>\n",
              "      <td>1</td>\n",
              "      <td>93</td>\n",
              "      <td>70</td>\n",
              "      <td>31</td>\n",
              "      <td>0</td>\n",
              "      <td>30.4</td>\n",
              "      <td>0.315</td>\n",
              "      <td>23</td>\n",
              "      <td>0</td>\n",
              "    </tr>\n",
              "  </tbody>\n",
              "</table>\n",
              "<p>768 rows × 9 columns</p>\n",
              "</div>\n",
              "    <div class=\"colab-df-buttons\">\n",
              "\n",
              "  <div class=\"colab-df-container\">\n",
              "    <button class=\"colab-df-convert\" onclick=\"convertToInteractive('df-9a845875-18b0-4b7d-b813-ac4ddda8226a')\"\n",
              "            title=\"Convert this dataframe to an interactive table.\"\n",
              "            style=\"display:none;\">\n",
              "\n",
              "  <svg xmlns=\"http://www.w3.org/2000/svg\" height=\"24px\" viewBox=\"0 -960 960 960\">\n",
              "    <path d=\"M120-120v-720h720v720H120Zm60-500h600v-160H180v160Zm220 220h160v-160H400v160Zm0 220h160v-160H400v160ZM180-400h160v-160H180v160Zm440 0h160v-160H620v160ZM180-180h160v-160H180v160Zm440 0h160v-160H620v160Z\"/>\n",
              "  </svg>\n",
              "    </button>\n",
              "\n",
              "  <style>\n",
              "    .colab-df-container {\n",
              "      display:flex;\n",
              "      gap: 12px;\n",
              "    }\n",
              "\n",
              "    .colab-df-convert {\n",
              "      background-color: #E8F0FE;\n",
              "      border: none;\n",
              "      border-radius: 50%;\n",
              "      cursor: pointer;\n",
              "      display: none;\n",
              "      fill: #1967D2;\n",
              "      height: 32px;\n",
              "      padding: 0 0 0 0;\n",
              "      width: 32px;\n",
              "    }\n",
              "\n",
              "    .colab-df-convert:hover {\n",
              "      background-color: #E2EBFA;\n",
              "      box-shadow: 0px 1px 2px rgba(60, 64, 67, 0.3), 0px 1px 3px 1px rgba(60, 64, 67, 0.15);\n",
              "      fill: #174EA6;\n",
              "    }\n",
              "\n",
              "    .colab-df-buttons div {\n",
              "      margin-bottom: 4px;\n",
              "    }\n",
              "\n",
              "    [theme=dark] .colab-df-convert {\n",
              "      background-color: #3B4455;\n",
              "      fill: #D2E3FC;\n",
              "    }\n",
              "\n",
              "    [theme=dark] .colab-df-convert:hover {\n",
              "      background-color: #434B5C;\n",
              "      box-shadow: 0px 1px 3px 1px rgba(0, 0, 0, 0.15);\n",
              "      filter: drop-shadow(0px 1px 2px rgba(0, 0, 0, 0.3));\n",
              "      fill: #FFFFFF;\n",
              "    }\n",
              "  </style>\n",
              "\n",
              "    <script>\n",
              "      const buttonEl =\n",
              "        document.querySelector('#df-9a845875-18b0-4b7d-b813-ac4ddda8226a button.colab-df-convert');\n",
              "      buttonEl.style.display =\n",
              "        google.colab.kernel.accessAllowed ? 'block' : 'none';\n",
              "\n",
              "      async function convertToInteractive(key) {\n",
              "        const element = document.querySelector('#df-9a845875-18b0-4b7d-b813-ac4ddda8226a');\n",
              "        const dataTable =\n",
              "          await google.colab.kernel.invokeFunction('convertToInteractive',\n",
              "                                                    [key], {});\n",
              "        if (!dataTable) return;\n",
              "\n",
              "        const docLinkHtml = 'Like what you see? Visit the ' +\n",
              "          '<a target=\"_blank\" href=https://colab.research.google.com/notebooks/data_table.ipynb>data table notebook</a>'\n",
              "          + ' to learn more about interactive tables.';\n",
              "        element.innerHTML = '';\n",
              "        dataTable['output_type'] = 'display_data';\n",
              "        await google.colab.output.renderOutput(dataTable, element);\n",
              "        const docLink = document.createElement('div');\n",
              "        docLink.innerHTML = docLinkHtml;\n",
              "        element.appendChild(docLink);\n",
              "      }\n",
              "    </script>\n",
              "  </div>\n",
              "\n",
              "\n",
              "<div id=\"df-c869797a-77e5-4f1f-a569-29cf73602bcf\">\n",
              "  <button class=\"colab-df-quickchart\" onclick=\"quickchart('df-c869797a-77e5-4f1f-a569-29cf73602bcf')\"\n",
              "            title=\"Suggest charts\"\n",
              "            style=\"display:none;\">\n",
              "\n",
              "<svg xmlns=\"http://www.w3.org/2000/svg\" height=\"24px\"viewBox=\"0 0 24 24\"\n",
              "     width=\"24px\">\n",
              "    <g>\n",
              "        <path d=\"M19 3H5c-1.1 0-2 .9-2 2v14c0 1.1.9 2 2 2h14c1.1 0 2-.9 2-2V5c0-1.1-.9-2-2-2zM9 17H7v-7h2v7zm4 0h-2V7h2v10zm4 0h-2v-4h2v4z\"/>\n",
              "    </g>\n",
              "</svg>\n",
              "  </button>\n",
              "\n",
              "<style>\n",
              "  .colab-df-quickchart {\n",
              "      --bg-color: #E8F0FE;\n",
              "      --fill-color: #1967D2;\n",
              "      --hover-bg-color: #E2EBFA;\n",
              "      --hover-fill-color: #174EA6;\n",
              "      --disabled-fill-color: #AAA;\n",
              "      --disabled-bg-color: #DDD;\n",
              "  }\n",
              "\n",
              "  [theme=dark] .colab-df-quickchart {\n",
              "      --bg-color: #3B4455;\n",
              "      --fill-color: #D2E3FC;\n",
              "      --hover-bg-color: #434B5C;\n",
              "      --hover-fill-color: #FFFFFF;\n",
              "      --disabled-bg-color: #3B4455;\n",
              "      --disabled-fill-color: #666;\n",
              "  }\n",
              "\n",
              "  .colab-df-quickchart {\n",
              "    background-color: var(--bg-color);\n",
              "    border: none;\n",
              "    border-radius: 50%;\n",
              "    cursor: pointer;\n",
              "    display: none;\n",
              "    fill: var(--fill-color);\n",
              "    height: 32px;\n",
              "    padding: 0;\n",
              "    width: 32px;\n",
              "  }\n",
              "\n",
              "  .colab-df-quickchart:hover {\n",
              "    background-color: var(--hover-bg-color);\n",
              "    box-shadow: 0 1px 2px rgba(60, 64, 67, 0.3), 0 1px 3px 1px rgba(60, 64, 67, 0.15);\n",
              "    fill: var(--button-hover-fill-color);\n",
              "  }\n",
              "\n",
              "  .colab-df-quickchart-complete:disabled,\n",
              "  .colab-df-quickchart-complete:disabled:hover {\n",
              "    background-color: var(--disabled-bg-color);\n",
              "    fill: var(--disabled-fill-color);\n",
              "    box-shadow: none;\n",
              "  }\n",
              "\n",
              "  .colab-df-spinner {\n",
              "    border: 2px solid var(--fill-color);\n",
              "    border-color: transparent;\n",
              "    border-bottom-color: var(--fill-color);\n",
              "    animation:\n",
              "      spin 1s steps(1) infinite;\n",
              "  }\n",
              "\n",
              "  @keyframes spin {\n",
              "    0% {\n",
              "      border-color: transparent;\n",
              "      border-bottom-color: var(--fill-color);\n",
              "      border-left-color: var(--fill-color);\n",
              "    }\n",
              "    20% {\n",
              "      border-color: transparent;\n",
              "      border-left-color: var(--fill-color);\n",
              "      border-top-color: var(--fill-color);\n",
              "    }\n",
              "    30% {\n",
              "      border-color: transparent;\n",
              "      border-left-color: var(--fill-color);\n",
              "      border-top-color: var(--fill-color);\n",
              "      border-right-color: var(--fill-color);\n",
              "    }\n",
              "    40% {\n",
              "      border-color: transparent;\n",
              "      border-right-color: var(--fill-color);\n",
              "      border-top-color: var(--fill-color);\n",
              "    }\n",
              "    60% {\n",
              "      border-color: transparent;\n",
              "      border-right-color: var(--fill-color);\n",
              "    }\n",
              "    80% {\n",
              "      border-color: transparent;\n",
              "      border-right-color: var(--fill-color);\n",
              "      border-bottom-color: var(--fill-color);\n",
              "    }\n",
              "    90% {\n",
              "      border-color: transparent;\n",
              "      border-bottom-color: var(--fill-color);\n",
              "    }\n",
              "  }\n",
              "</style>\n",
              "\n",
              "  <script>\n",
              "    async function quickchart(key) {\n",
              "      const quickchartButtonEl =\n",
              "        document.querySelector('#' + key + ' button');\n",
              "      quickchartButtonEl.disabled = true;  // To prevent multiple clicks.\n",
              "      quickchartButtonEl.classList.add('colab-df-spinner');\n",
              "      try {\n",
              "        const charts = await google.colab.kernel.invokeFunction(\n",
              "            'suggestCharts', [key], {});\n",
              "      } catch (error) {\n",
              "        console.error('Error during call to suggestCharts:', error);\n",
              "      }\n",
              "      quickchartButtonEl.classList.remove('colab-df-spinner');\n",
              "      quickchartButtonEl.classList.add('colab-df-quickchart-complete');\n",
              "    }\n",
              "    (() => {\n",
              "      let quickchartButtonEl =\n",
              "        document.querySelector('#df-c869797a-77e5-4f1f-a569-29cf73602bcf button');\n",
              "      quickchartButtonEl.style.display =\n",
              "        google.colab.kernel.accessAllowed ? 'block' : 'none';\n",
              "    })();\n",
              "  </script>\n",
              "</div>\n",
              "\n",
              "  <div id=\"id_5ebf27c7-604c-4159-8bcf-a258645aa123\">\n",
              "    <style>\n",
              "      .colab-df-generate {\n",
              "        background-color: #E8F0FE;\n",
              "        border: none;\n",
              "        border-radius: 50%;\n",
              "        cursor: pointer;\n",
              "        display: none;\n",
              "        fill: #1967D2;\n",
              "        height: 32px;\n",
              "        padding: 0 0 0 0;\n",
              "        width: 32px;\n",
              "      }\n",
              "\n",
              "      .colab-df-generate:hover {\n",
              "        background-color: #E2EBFA;\n",
              "        box-shadow: 0px 1px 2px rgba(60, 64, 67, 0.3), 0px 1px 3px 1px rgba(60, 64, 67, 0.15);\n",
              "        fill: #174EA6;\n",
              "      }\n",
              "\n",
              "      [theme=dark] .colab-df-generate {\n",
              "        background-color: #3B4455;\n",
              "        fill: #D2E3FC;\n",
              "      }\n",
              "\n",
              "      [theme=dark] .colab-df-generate:hover {\n",
              "        background-color: #434B5C;\n",
              "        box-shadow: 0px 1px 3px 1px rgba(0, 0, 0, 0.15);\n",
              "        filter: drop-shadow(0px 1px 2px rgba(0, 0, 0, 0.3));\n",
              "        fill: #FFFFFF;\n",
              "      }\n",
              "    </style>\n",
              "    <button class=\"colab-df-generate\" onclick=\"generateWithVariable('data')\"\n",
              "            title=\"Generate code using this dataframe.\"\n",
              "            style=\"display:none;\">\n",
              "\n",
              "  <svg xmlns=\"http://www.w3.org/2000/svg\" height=\"24px\"viewBox=\"0 0 24 24\"\n",
              "       width=\"24px\">\n",
              "    <path d=\"M7,19H8.4L18.45,9,17,7.55,7,17.6ZM5,21V16.75L18.45,3.32a2,2,0,0,1,2.83,0l1.4,1.43a1.91,1.91,0,0,1,.58,1.4,1.91,1.91,0,0,1-.58,1.4L9.25,21ZM18.45,9,17,7.55Zm-12,3A5.31,5.31,0,0,0,4.9,8.1,5.31,5.31,0,0,0,1,6.5,5.31,5.31,0,0,0,4.9,4.9,5.31,5.31,0,0,0,6.5,1,5.31,5.31,0,0,0,8.1,4.9,5.31,5.31,0,0,0,12,6.5,5.46,5.46,0,0,0,6.5,12Z\"/>\n",
              "  </svg>\n",
              "    </button>\n",
              "    <script>\n",
              "      (() => {\n",
              "      const buttonEl =\n",
              "        document.querySelector('#id_5ebf27c7-604c-4159-8bcf-a258645aa123 button.colab-df-generate');\n",
              "      buttonEl.style.display =\n",
              "        google.colab.kernel.accessAllowed ? 'block' : 'none';\n",
              "\n",
              "      buttonEl.onclick = () => {\n",
              "        google.colab.notebook.generateWithVariable('data');\n",
              "      }\n",
              "      })();\n",
              "    </script>\n",
              "  </div>\n",
              "\n",
              "    </div>\n",
              "  </div>\n"
            ],
            "application/vnd.google.colaboratory.intrinsic+json": {
              "type": "dataframe",
              "variable_name": "data",
              "summary": "{\n  \"name\": \"data\",\n  \"rows\": 768,\n  \"fields\": [\n    {\n      \"column\": \"Pregnancies\",\n      \"properties\": {\n        \"dtype\": \"number\",\n        \"std\": 3,\n        \"min\": 0,\n        \"max\": 17,\n        \"num_unique_values\": 17,\n        \"samples\": [\n          6,\n          1,\n          3\n        ],\n        \"semantic_type\": \"\",\n        \"description\": \"\"\n      }\n    },\n    {\n      \"column\": \"Glucose\",\n      \"properties\": {\n        \"dtype\": \"number\",\n        \"std\": 31,\n        \"min\": 0,\n        \"max\": 199,\n        \"num_unique_values\": 136,\n        \"samples\": [\n          151,\n          101,\n          112\n        ],\n        \"semantic_type\": \"\",\n        \"description\": \"\"\n      }\n    },\n    {\n      \"column\": \"BloodPressure\",\n      \"properties\": {\n        \"dtype\": \"number\",\n        \"std\": 19,\n        \"min\": 0,\n        \"max\": 122,\n        \"num_unique_values\": 47,\n        \"samples\": [\n          86,\n          46,\n          85\n        ],\n        \"semantic_type\": \"\",\n        \"description\": \"\"\n      }\n    },\n    {\n      \"column\": \"SkinThickness\",\n      \"properties\": {\n        \"dtype\": \"number\",\n        \"std\": 15,\n        \"min\": 0,\n        \"max\": 99,\n        \"num_unique_values\": 51,\n        \"samples\": [\n          7,\n          12,\n          48\n        ],\n        \"semantic_type\": \"\",\n        \"description\": \"\"\n      }\n    },\n    {\n      \"column\": \"Insulin\",\n      \"properties\": {\n        \"dtype\": \"number\",\n        \"std\": 115,\n        \"min\": 0,\n        \"max\": 846,\n        \"num_unique_values\": 186,\n        \"samples\": [\n          52,\n          41,\n          183\n        ],\n        \"semantic_type\": \"\",\n        \"description\": \"\"\n      }\n    },\n    {\n      \"column\": \"BMI\",\n      \"properties\": {\n        \"dtype\": \"number\",\n        \"std\": 7.884160320375446,\n        \"min\": 0.0,\n        \"max\": 67.1,\n        \"num_unique_values\": 248,\n        \"samples\": [\n          19.9,\n          31.0,\n          38.1\n        ],\n        \"semantic_type\": \"\",\n        \"description\": \"\"\n      }\n    },\n    {\n      \"column\": \"DiabetesPedigreeFunction\",\n      \"properties\": {\n        \"dtype\": \"number\",\n        \"std\": 0.3313285950127749,\n        \"min\": 0.078,\n        \"max\": 2.42,\n        \"num_unique_values\": 517,\n        \"samples\": [\n          1.731,\n          0.426,\n          0.138\n        ],\n        \"semantic_type\": \"\",\n        \"description\": \"\"\n      }\n    },\n    {\n      \"column\": \"Age\",\n      \"properties\": {\n        \"dtype\": \"number\",\n        \"std\": 11,\n        \"min\": 21,\n        \"max\": 81,\n        \"num_unique_values\": 52,\n        \"samples\": [\n          60,\n          47,\n          72\n        ],\n        \"semantic_type\": \"\",\n        \"description\": \"\"\n      }\n    },\n    {\n      \"column\": \"Outcome\",\n      \"properties\": {\n        \"dtype\": \"number\",\n        \"std\": 0,\n        \"min\": 0,\n        \"max\": 1,\n        \"num_unique_values\": 2,\n        \"samples\": [\n          0,\n          1\n        ],\n        \"semantic_type\": \"\",\n        \"description\": \"\"\n      }\n    }\n  ]\n}"
            }
          },
          "metadata": {},
          "execution_count": 16
        }
      ]
    },
    {
      "cell_type": "code",
      "source": [
        "# Identify the column names\n",
        "column_names = list(data.columns)\n",
        "\n",
        "print(column_names)\n"
      ],
      "metadata": {
        "colab": {
          "base_uri": "https://localhost:8080/"
        },
        "id": "6rcLJkZywQ8v",
        "outputId": "acbf7d66-bfe4-4c22-9565-4286c5916713"
      },
      "execution_count": 17,
      "outputs": [
        {
          "output_type": "stream",
          "name": "stdout",
          "text": [
            "['Pregnancies', 'Glucose', 'BloodPressure', 'SkinThickness', 'Insulin', 'BMI', 'DiabetesPedigreeFunction', 'Age', 'Outcome']\n"
          ]
        }
      ]
    },
    {
      "cell_type": "code",
      "source": [
        "#Identify the data types of the data\n",
        "dataTypes = data.dtypes\n",
        "\n",
        "print(dataTypes)\n",
        ""
      ],
      "metadata": {
        "colab": {
          "base_uri": "https://localhost:8080/"
        },
        "id": "oqQlz2MOwXql",
        "outputId": "d6524aa7-df2d-412a-8c88-48eb00161894"
      },
      "execution_count": 18,
      "outputs": [
        {
          "output_type": "stream",
          "name": "stdout",
          "text": [
            "Pregnancies                   int64\n",
            "Glucose                       int64\n",
            "BloodPressure                 int64\n",
            "SkinThickness                 int64\n",
            "Insulin                       int64\n",
            "BMI                         float64\n",
            "DiabetesPedigreeFunction    float64\n",
            "Age                           int64\n",
            "Outcome                       int64\n",
            "dtype: object\n"
          ]
        }
      ]
    },
    {
      "cell_type": "code",
      "source": [
        "# Display the total number of records\n",
        "noRecords = len(data)\n",
        "\n",
        "print(noRecords)"
      ],
      "metadata": {
        "colab": {
          "base_uri": "https://localhost:8080/"
        },
        "id": "dQ4Fm_LewcHo",
        "outputId": "d8e9213f-1369-460a-83d6-d375d2083e60"
      },
      "execution_count": 19,
      "outputs": [
        {
          "output_type": "stream",
          "name": "stdout",
          "text": [
            "768\n"
          ]
        }
      ]
    },
    {
      "cell_type": "code",
      "source": [
        "# Display the first 20 records\n",
        "first20Records = data.head(20)\n",
        "\n",
        "print(first20Records)"
      ],
      "metadata": {
        "colab": {
          "base_uri": "https://localhost:8080/"
        },
        "id": "AC8Za3r_wduo",
        "outputId": "046602d5-7de8-44b6-e897-8f800242a39a"
      },
      "execution_count": 20,
      "outputs": [
        {
          "output_type": "stream",
          "name": "stdout",
          "text": [
            "    Pregnancies  Glucose  BloodPressure  SkinThickness  Insulin   BMI  \\\n",
            "0             6      148             72             35        0  33.6   \n",
            "1             1       85             66             29        0  26.6   \n",
            "2             8      183             64              0        0  23.3   \n",
            "3             1       89             66             23       94  28.1   \n",
            "4             0      137             40             35      168  43.1   \n",
            "5             5      116             74              0        0  25.6   \n",
            "6             3       78             50             32       88  31.0   \n",
            "7            10      115              0              0        0  35.3   \n",
            "8             2      197             70             45      543  30.5   \n",
            "9             8      125             96              0        0   0.0   \n",
            "10            4      110             92              0        0  37.6   \n",
            "11           10      168             74              0        0  38.0   \n",
            "12           10      139             80              0        0  27.1   \n",
            "13            1      189             60             23      846  30.1   \n",
            "14            5      166             72             19      175  25.8   \n",
            "15            7      100              0              0        0  30.0   \n",
            "16            0      118             84             47      230  45.8   \n",
            "17            7      107             74              0        0  29.6   \n",
            "18            1      103             30             38       83  43.3   \n",
            "19            1      115             70             30       96  34.6   \n",
            "\n",
            "    DiabetesPedigreeFunction  Age  Outcome  \n",
            "0                      0.627   50        1  \n",
            "1                      0.351   31        0  \n",
            "2                      0.672   32        1  \n",
            "3                      0.167   21        0  \n",
            "4                      2.288   33        1  \n",
            "5                      0.201   30        0  \n",
            "6                      0.248   26        1  \n",
            "7                      0.134   29        0  \n",
            "8                      0.158   53        1  \n",
            "9                      0.232   54        1  \n",
            "10                     0.191   30        0  \n",
            "11                     0.537   34        1  \n",
            "12                     1.441   57        0  \n",
            "13                     0.398   59        1  \n",
            "14                     0.587   51        1  \n",
            "15                     0.484   32        1  \n",
            "16                     0.551   31        1  \n",
            "17                     0.254   31        1  \n",
            "18                     0.183   33        0  \n",
            "19                     0.529   32        1  \n"
          ]
        }
      ]
    },
    {
      "cell_type": "code",
      "source": [
        "# Display the last 20 records\n",
        "last20Records = data.tail(20)\n",
        "\n",
        "print(last20Records)"
      ],
      "metadata": {
        "colab": {
          "base_uri": "https://localhost:8080/"
        },
        "id": "N0AIag74w4b0",
        "outputId": "f934b3a5-761e-45c3-9c22-87ca87d28722"
      },
      "execution_count": 21,
      "outputs": [
        {
          "output_type": "stream",
          "name": "stdout",
          "text": [
            "     Pregnancies  Glucose  BloodPressure  SkinThickness  Insulin   BMI  \\\n",
            "748            3      187             70             22      200  36.4   \n",
            "749            6      162             62              0        0  24.3   \n",
            "750            4      136             70              0        0  31.2   \n",
            "751            1      121             78             39       74  39.0   \n",
            "752            3      108             62             24        0  26.0   \n",
            "753            0      181             88             44      510  43.3   \n",
            "754            8      154             78             32        0  32.4   \n",
            "755            1      128             88             39      110  36.5   \n",
            "756            7      137             90             41        0  32.0   \n",
            "757            0      123             72              0        0  36.3   \n",
            "758            1      106             76              0        0  37.5   \n",
            "759            6      190             92              0        0  35.5   \n",
            "760            2       88             58             26       16  28.4   \n",
            "761            9      170             74             31        0  44.0   \n",
            "762            9       89             62              0        0  22.5   \n",
            "763           10      101             76             48      180  32.9   \n",
            "764            2      122             70             27        0  36.8   \n",
            "765            5      121             72             23      112  26.2   \n",
            "766            1      126             60              0        0  30.1   \n",
            "767            1       93             70             31        0  30.4   \n",
            "\n",
            "     DiabetesPedigreeFunction  Age  Outcome  \n",
            "748                     0.408   36        1  \n",
            "749                     0.178   50        1  \n",
            "750                     1.182   22        1  \n",
            "751                     0.261   28        0  \n",
            "752                     0.223   25        0  \n",
            "753                     0.222   26        1  \n",
            "754                     0.443   45        1  \n",
            "755                     1.057   37        1  \n",
            "756                     0.391   39        0  \n",
            "757                     0.258   52        1  \n",
            "758                     0.197   26        0  \n",
            "759                     0.278   66        1  \n",
            "760                     0.766   22        0  \n",
            "761                     0.403   43        1  \n",
            "762                     0.142   33        0  \n",
            "763                     0.171   63        0  \n",
            "764                     0.340   27        0  \n",
            "765                     0.245   30        0  \n",
            "766                     0.349   47        1  \n",
            "767                     0.315   23        0  \n"
          ]
        }
      ]
    },
    {
      "cell_type": "code",
      "source": [
        "# Change the Outcome column to Diagnosis\n",
        "data.rename(columns={'Outcome': 'Diagnosis'}, inplace=True)\n",
        "\n",
        "print(data)"
      ],
      "metadata": {
        "colab": {
          "base_uri": "https://localhost:8080/"
        },
        "id": "ER-OX-N1w6Uy",
        "outputId": "f727ede8-b87c-4a32-e413-bd63fc78e1a5"
      },
      "execution_count": 22,
      "outputs": [
        {
          "output_type": "stream",
          "name": "stdout",
          "text": [
            "     Pregnancies  Glucose  BloodPressure  SkinThickness  Insulin   BMI  \\\n",
            "0              6      148             72             35        0  33.6   \n",
            "1              1       85             66             29        0  26.6   \n",
            "2              8      183             64              0        0  23.3   \n",
            "3              1       89             66             23       94  28.1   \n",
            "4              0      137             40             35      168  43.1   \n",
            "..           ...      ...            ...            ...      ...   ...   \n",
            "763           10      101             76             48      180  32.9   \n",
            "764            2      122             70             27        0  36.8   \n",
            "765            5      121             72             23      112  26.2   \n",
            "766            1      126             60              0        0  30.1   \n",
            "767            1       93             70             31        0  30.4   \n",
            "\n",
            "     DiabetesPedigreeFunction  Age  Diagnosis  \n",
            "0                       0.627   50          1  \n",
            "1                       0.351   31          0  \n",
            "2                       0.672   32          1  \n",
            "3                       0.167   21          0  \n",
            "4                       2.288   33          1  \n",
            "..                        ...  ...        ...  \n",
            "763                     0.171   63          0  \n",
            "764                     0.340   27          0  \n",
            "765                     0.245   30          0  \n",
            "766                     0.349   47          1  \n",
            "767                     0.315   23          0  \n",
            "\n",
            "[768 rows x 9 columns]\n"
          ]
        }
      ]
    },
    {
      "cell_type": "code",
      "source": [
        "# Create a new column Classification that display \"Diabetes\" if the value of outcome is 1 , otherwise \"No Diabetes\"\n",
        "data['Classification'] = data['Diagnosis'].apply(lambda x: 'Diabetes' if x == 1 else 'No Diabetes')\n",
        "\n",
        "print(data)"
      ],
      "metadata": {
        "colab": {
          "base_uri": "https://localhost:8080/"
        },
        "id": "vgXIfCy4xLFB",
        "outputId": "06b19149-c754-4dc4-b14b-114d530711ef"
      },
      "execution_count": 23,
      "outputs": [
        {
          "output_type": "stream",
          "name": "stdout",
          "text": [
            "     Pregnancies  Glucose  BloodPressure  SkinThickness  Insulin   BMI  \\\n",
            "0              6      148             72             35        0  33.6   \n",
            "1              1       85             66             29        0  26.6   \n",
            "2              8      183             64              0        0  23.3   \n",
            "3              1       89             66             23       94  28.1   \n",
            "4              0      137             40             35      168  43.1   \n",
            "..           ...      ...            ...            ...      ...   ...   \n",
            "763           10      101             76             48      180  32.9   \n",
            "764            2      122             70             27        0  36.8   \n",
            "765            5      121             72             23      112  26.2   \n",
            "766            1      126             60              0        0  30.1   \n",
            "767            1       93             70             31        0  30.4   \n",
            "\n",
            "     DiabetesPedigreeFunction  Age  Diagnosis Classification  \n",
            "0                       0.627   50          1       Diabetes  \n",
            "1                       0.351   31          0    No Diabetes  \n",
            "2                       0.672   32          1       Diabetes  \n",
            "3                       0.167   21          0    No Diabetes  \n",
            "4                       2.288   33          1       Diabetes  \n",
            "..                        ...  ...        ...            ...  \n",
            "763                     0.171   63          0    No Diabetes  \n",
            "764                     0.340   27          0    No Diabetes  \n",
            "765                     0.245   30          0    No Diabetes  \n",
            "766                     0.349   47          1       Diabetes  \n",
            "767                     0.315   23          0    No Diabetes  \n",
            "\n",
            "[768 rows x 10 columns]\n"
          ]
        }
      ]
    },
    {
      "cell_type": "code",
      "source": [
        "# Create a new dataframe \"withDiabetes\" that gathers data with diabetes\n",
        "withDiabetes = data[data['Diagnosis'] == 1]\n",
        "\n",
        "print(withDiabetes)"
      ],
      "metadata": {
        "colab": {
          "base_uri": "https://localhost:8080/"
        },
        "id": "jQB9NxNyxSbW",
        "outputId": "954baa62-218a-4909-c3bd-277d32ecb1f9"
      },
      "execution_count": 24,
      "outputs": [
        {
          "output_type": "stream",
          "name": "stdout",
          "text": [
            "     Pregnancies  Glucose  BloodPressure  SkinThickness  Insulin   BMI  \\\n",
            "0              6      148             72             35        0  33.6   \n",
            "2              8      183             64              0        0  23.3   \n",
            "4              0      137             40             35      168  43.1   \n",
            "6              3       78             50             32       88  31.0   \n",
            "8              2      197             70             45      543  30.5   \n",
            "..           ...      ...            ...            ...      ...   ...   \n",
            "755            1      128             88             39      110  36.5   \n",
            "757            0      123             72              0        0  36.3   \n",
            "759            6      190             92              0        0  35.5   \n",
            "761            9      170             74             31        0  44.0   \n",
            "766            1      126             60              0        0  30.1   \n",
            "\n",
            "     DiabetesPedigreeFunction  Age  Diagnosis Classification  \n",
            "0                       0.627   50          1       Diabetes  \n",
            "2                       0.672   32          1       Diabetes  \n",
            "4                       2.288   33          1       Diabetes  \n",
            "6                       0.248   26          1       Diabetes  \n",
            "8                       0.158   53          1       Diabetes  \n",
            "..                        ...  ...        ...            ...  \n",
            "755                     1.057   37          1       Diabetes  \n",
            "757                     0.258   52          1       Diabetes  \n",
            "759                     0.278   66          1       Diabetes  \n",
            "761                     0.403   43          1       Diabetes  \n",
            "766                     0.349   47          1       Diabetes  \n",
            "\n",
            "[268 rows x 10 columns]\n"
          ]
        }
      ]
    },
    {
      "cell_type": "code",
      "source": [
        "# Create a new dataframe \"noDiabetes\" thats gathers data with no diabetes\n",
        "noDiabetes = data[data['Diagnosis'] == 0]\n",
        "\n",
        "print(noDiabetes)"
      ],
      "metadata": {
        "colab": {
          "base_uri": "https://localhost:8080/"
        },
        "id": "wr0U72K6xUU0",
        "outputId": "9f0796de-3547-4550-f0e5-53d199683cd7"
      },
      "execution_count": 25,
      "outputs": [
        {
          "output_type": "stream",
          "name": "stdout",
          "text": [
            "     Pregnancies  Glucose  BloodPressure  SkinThickness  Insulin   BMI  \\\n",
            "1              1       85             66             29        0  26.6   \n",
            "3              1       89             66             23       94  28.1   \n",
            "5              5      116             74              0        0  25.6   \n",
            "7             10      115              0              0        0  35.3   \n",
            "10             4      110             92              0        0  37.6   \n",
            "..           ...      ...            ...            ...      ...   ...   \n",
            "762            9       89             62              0        0  22.5   \n",
            "763           10      101             76             48      180  32.9   \n",
            "764            2      122             70             27        0  36.8   \n",
            "765            5      121             72             23      112  26.2   \n",
            "767            1       93             70             31        0  30.4   \n",
            "\n",
            "     DiabetesPedigreeFunction  Age  Diagnosis Classification  \n",
            "1                       0.351   31          0    No Diabetes  \n",
            "3                       0.167   21          0    No Diabetes  \n",
            "5                       0.201   30          0    No Diabetes  \n",
            "7                       0.134   29          0    No Diabetes  \n",
            "10                      0.191   30          0    No Diabetes  \n",
            "..                        ...  ...        ...            ...  \n",
            "762                     0.142   33          0    No Diabetes  \n",
            "763                     0.171   63          0    No Diabetes  \n",
            "764                     0.340   27          0    No Diabetes  \n",
            "765                     0.245   30          0    No Diabetes  \n",
            "767                     0.315   23          0    No Diabetes  \n",
            "\n",
            "[500 rows x 10 columns]\n"
          ]
        }
      ]
    },
    {
      "cell_type": "code",
      "source": [
        "# Create a new dataframe \"Pedia\" that gathers data with age 0 to 19\n",
        "Pedia = data[(data['Age'] >= 0) & (data['Age'] <= 19)]\n",
        "\n",
        "print(Pedia)"
      ],
      "metadata": {
        "colab": {
          "base_uri": "https://localhost:8080/"
        },
        "id": "3X-A-qQIxYsI",
        "outputId": "cd8ab5b0-0fcd-4b30-c8fb-b7a9441aaf82"
      },
      "execution_count": 26,
      "outputs": [
        {
          "output_type": "stream",
          "name": "stdout",
          "text": [
            "Empty DataFrame\n",
            "Columns: [Pregnancies, Glucose, BloodPressure, SkinThickness, Insulin, BMI, DiabetesPedigreeFunction, Age, Diagnosis, Classification]\n",
            "Index: []\n"
          ]
        }
      ]
    },
    {
      "cell_type": "code",
      "source": [
        "# Create a new dataframe \"Adult\" that gathers data with age greater than 19\n",
        "Adult = data[data['Age'] > 19]\n",
        "\n",
        "print(Adult)"
      ],
      "metadata": {
        "colab": {
          "base_uri": "https://localhost:8080/"
        },
        "id": "I_C5pKQ-xbZr",
        "outputId": "6bd58c95-e032-472f-a9e7-6e326be1498a"
      },
      "execution_count": 27,
      "outputs": [
        {
          "output_type": "stream",
          "name": "stdout",
          "text": [
            "     Pregnancies  Glucose  BloodPressure  SkinThickness  Insulin   BMI  \\\n",
            "0              6      148             72             35        0  33.6   \n",
            "1              1       85             66             29        0  26.6   \n",
            "2              8      183             64              0        0  23.3   \n",
            "3              1       89             66             23       94  28.1   \n",
            "4              0      137             40             35      168  43.1   \n",
            "..           ...      ...            ...            ...      ...   ...   \n",
            "763           10      101             76             48      180  32.9   \n",
            "764            2      122             70             27        0  36.8   \n",
            "765            5      121             72             23      112  26.2   \n",
            "766            1      126             60              0        0  30.1   \n",
            "767            1       93             70             31        0  30.4   \n",
            "\n",
            "     DiabetesPedigreeFunction  Age  Diagnosis Classification  \n",
            "0                       0.627   50          1       Diabetes  \n",
            "1                       0.351   31          0    No Diabetes  \n",
            "2                       0.672   32          1       Diabetes  \n",
            "3                       0.167   21          0    No Diabetes  \n",
            "4                       2.288   33          1       Diabetes  \n",
            "..                        ...  ...        ...            ...  \n",
            "763                     0.171   63          0    No Diabetes  \n",
            "764                     0.340   27          0    No Diabetes  \n",
            "765                     0.245   30          0    No Diabetes  \n",
            "766                     0.349   47          1       Diabetes  \n",
            "767                     0.315   23          0    No Diabetes  \n",
            "\n",
            "[768 rows x 10 columns]\n"
          ]
        }
      ]
    },
    {
      "cell_type": "code",
      "source": [
        "# Use numpy to get the average age and glucose value.\n",
        "import numpy as np\n",
        "\n",
        "aveAge = np.mean(data['Age'])\n",
        "aveGlucose = np.mean(data['Glucose'])\n",
        "\n",
        "print(\"Average Age:\", aveAge)\n",
        "print(\"Average Glucose:\", aveGlucose)"
      ],
      "metadata": {
        "colab": {
          "base_uri": "https://localhost:8080/"
        },
        "id": "gKwaL20DxeC0",
        "outputId": "1ad7e411-3fe8-42be-fac9-99fd094108e0"
      },
      "execution_count": 28,
      "outputs": [
        {
          "output_type": "stream",
          "name": "stdout",
          "text": [
            "Average Age: 33.240885416666664\n",
            "Average Glucose: 120.89453125\n"
          ]
        }
      ]
    },
    {
      "cell_type": "code",
      "source": [
        "# Use numpy to get the median age and glucose value.\n",
        "medAge = np.median(data['Age'])\n",
        "medGlucose = np.median(data['Glucose'])\n",
        "\n",
        "print(\"Median Age:\", medAge)\n",
        "print(\"Median Glucose:\", medGlucose)"
      ],
      "metadata": {
        "colab": {
          "base_uri": "https://localhost:8080/"
        },
        "id": "7cDnf_kJxkCV",
        "outputId": "9446b18f-6685-4967-f143-055b48e54dc2"
      },
      "execution_count": 32,
      "outputs": [
        {
          "output_type": "stream",
          "name": "stdout",
          "text": [
            "Median Age: 29.0\n",
            "Median Glucose: 117.0\n"
          ]
        }
      ]
    },
    {
      "cell_type": "code",
      "source": [
        "# Use numpy to get the middle values of glucose and age.\n",
        "midGlucose = np.median(data['Glucose'])\n",
        "midAge = np.median(data['Age'])\n",
        "\n",
        "print(\"Middle Glucose:\", midGlucose)\n",
        "print(\"Middle Age:\", midAge)"
      ],
      "metadata": {
        "colab": {
          "base_uri": "https://localhost:8080/"
        },
        "id": "A0awLBT6xlpK",
        "outputId": "6cbd0fe7-c29f-437a-83ce-47e28aba53d9"
      },
      "execution_count": 33,
      "outputs": [
        {
          "output_type": "stream",
          "name": "stdout",
          "text": [
            "Middle Glucose: 117.0\n",
            "Middle Age: 29.0\n"
          ]
        }
      ]
    },
    {
      "cell_type": "code",
      "source": [
        "# Use numpy to get the standard deviation of the skinthickness\n",
        "stdSkinThickness = np.std(data['SkinThickness'])\n",
        "\n",
        "print(\"Standard Deviation of Skin Thickness:\", stdSkinThickness)\n",
        ""
      ],
      "metadata": {
        "colab": {
          "base_uri": "https://localhost:8080/"
        },
        "id": "Gk7vnnHkxoHp",
        "outputId": "772de4fc-1ea3-4f96-b4ef-85509e593ea8"
      },
      "execution_count": 34,
      "outputs": [
        {
          "output_type": "stream",
          "name": "stdout",
          "text": [
            "Standard Deviation of Skin Thickness: 15.941828626496939\n"
          ]
        }
      ]
    },
    {
      "cell_type": "markdown",
      "source": [
        "# **Conclusion**\n",
        "*This lesson shows us how to use data analysis tools like Pandas and Numpy. It helps us do the job. We learn to handle large sets of data easily with these tools. This makes analyzing and understanding data much simpler.*"
      ],
      "metadata": {
        "id": "HquQ7V9Py3j7"
      }
    }
  ]
}