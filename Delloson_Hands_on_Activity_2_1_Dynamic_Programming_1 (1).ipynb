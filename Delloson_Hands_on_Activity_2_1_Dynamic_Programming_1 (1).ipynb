{
  "cells": [
    {
      "cell_type": "markdown",
      "id": "f1c6ec95",
      "metadata": {
        "id": "f1c6ec95"
      },
      "source": [
        "# Hands-on Activity 2.1 : Dynamic Programming"
      ]
    },
    {
      "cell_type": "markdown",
      "id": "56dacba1",
      "metadata": {
        "id": "56dacba1"
      },
      "source": [
        "#### Objective(s):\n",
        "\n",
        "This activity aims to demonstrate how to use dynamic programming to solve problems."
      ]
    },
    {
      "cell_type": "markdown",
      "id": "e51f84e3",
      "metadata": {
        "id": "e51f84e3"
      },
      "source": [
        "#### Intended Learning Outcomes (ILOs):\n",
        "* Differentiate recursion method from dynamic programming to solve problems.\n",
        "* Demonstrate how to  solve real-world problems using dynamic programming\n"
      ]
    },
    {
      "cell_type": "markdown",
      "id": "39047b1a",
      "metadata": {
        "id": "39047b1a"
      },
      "source": [
        "#### Resources:\n",
        "* Jupyter Notebook\n"
      ]
    },
    {
      "cell_type": "markdown",
      "id": "cb5360c0",
      "metadata": {
        "id": "cb5360c0"
      },
      "source": [
        "#### Procedures:"
      ]
    },
    {
      "cell_type": "markdown",
      "id": "206a914c",
      "metadata": {
        "id": "206a914c"
      },
      "source": [
        "1. Create a code that demonstrate how to use recursion method to solve problem"
      ]
    },
    {
      "cell_type": "markdown",
      "id": "5744a876",
      "metadata": {
        "id": "5744a876"
      },
      "source": [
        "2. Create a program codes that demonstrate how to use dynamic programming to solve the same problem"
      ]
    },
    {
      "cell_type": "markdown",
      "id": "8e3f6572",
      "metadata": {
        "id": "8e3f6572"
      },
      "source": [
        "##### Question:\n",
        "Explain the difference of using the recursion from dynamic programming using the given sample codes to solve the same problem"
      ]
    },
    {
      "cell_type": "markdown",
      "id": "b5a71b53",
      "metadata": {
        "id": "b5a71b53"
      },
      "source": [
        "Type your answer here:\n",
        "\n",
        "\n",
        "\n"
      ]
    },
    {
      "cell_type": "markdown",
      "id": "60074702",
      "metadata": {
        "id": "60074702"
      },
      "source": [
        "3. Create a sample program codes to simulate bottom-up dynamic programming"
      ]
    },
    {
      "cell_type": "markdown",
      "id": "e629eb89",
      "metadata": {
        "id": "e629eb89"
      },
      "source": [
        "4. Create a sample program codes that simulate tops-down dynamic programming"
      ]
    },
    {
      "cell_type": "markdown",
      "id": "c2e2434c",
      "metadata": {
        "id": "c2e2434c"
      },
      "source": [
        "#### Question:\n",
        " Explain the difference between bottom-up from top-down dynamic programming using the given sample codes"
      ]
    },
    {
      "cell_type": "markdown",
      "id": "ac97e063",
      "metadata": {
        "id": "ac97e063"
      },
      "source": [
        "Type your answer here:\n",
        "\n",
        "\n",
        "\n",
        "\n"
      ]
    },
    {
      "cell_type": "markdown",
      "id": "f7a5bfbd",
      "metadata": {
        "id": "f7a5bfbd"
      },
      "source": [
        "0/1 Knapsack Problem\n",
        "\n",
        "* Analyze three different techniques to solve knapsacks problem\n",
        "1. Recursion\n",
        "2. Dynamic Programming\n",
        "3. Memoization"
      ]
    },
    {
      "cell_type": "code",
      "source": [
        "#sample code for knapsack problem using recursion\n",
        "def rec_knapSack(w, wt, val, n):\n",
        "\n",
        "  #base case\n",
        "  #defined as nth item is empty;\n",
        "  #or the capacity w is 0\n",
        "  if n == 0 or w == 0:\n",
        "    return 0\n",
        "\n",
        "  #if weight of the nth item is more than\n",
        "  #the capacity W, then this item cannot be included\n",
        "  #as part of the optimal solution\n",
        "  if(wt[n-1] > w):\n",
        "    return rec_knapSack(w, wt, val, n-1)\n",
        "\n",
        "  #return the maximum of the two cases:\n",
        "  # (1) include the nth item\n",
        "  # (2) don't include the nth item\n",
        "  else:\n",
        "    return max(\n",
        "        val[n-1] + rec_knapSack(\n",
        "            w-wt[n-1], wt, val, n-1),\n",
        "            rec_knapSack(w, wt, val, n-1)\n",
        "    )"
      ],
      "metadata": {
        "id": "15SVHF85_1Ji"
      },
      "id": "15SVHF85_1Ji",
      "execution_count": null,
      "outputs": []
    },
    {
      "cell_type": "code",
      "source": [
        "#To test:\n",
        "val = [60, 100, 120] #values for the items\n",
        "wt = [10, 20, 30] #weight of the items\n",
        "w = 50 #knapsack weight capacity\n",
        "n = len(val) #number of items\n",
        "\n",
        "rec_knapSack(w, wt, val, n)"
      ],
      "metadata": {
        "colab": {
          "base_uri": "https://localhost:8080/"
        },
        "id": "b1D3YRJ7cMqU",
        "outputId": "2d68d678-8a44-4ca8-876d-c1ef67ca1453"
      },
      "id": "b1D3YRJ7cMqU",
      "execution_count": null,
      "outputs": [
        {
          "output_type": "execute_result",
          "data": {
            "text/plain": [
              "220"
            ]
          },
          "metadata": {},
          "execution_count": 15
        }
      ]
    },
    {
      "cell_type": "code",
      "source": [
        "#Dynamic Programming for the Knapsack Problem\n",
        "def DP_knapSack(w, wt, val, n):\n",
        "  #create the table\n",
        "  table = [[0 for x in range(w+1)] for x in range (n+1)]\n",
        "\n",
        "  #populate the table in a bottom-up approach\n",
        "  for i in range(n+1):\n",
        "    for w in range(w+1):\n",
        "      if i == 0 or w == 0:\n",
        "        table[i][w] = 0\n",
        "      elif wt[i-1] <= w:\n",
        "        table[i][w] = max(val[i-1] + table[i-1][w-wt[i-1]],\n",
        "                          table[i-1][w])\n",
        "  return table[n][w]"
      ],
      "metadata": {
        "id": "A8OU1sUJ_1ES"
      },
      "id": "A8OU1sUJ_1ES",
      "execution_count": null,
      "outputs": []
    },
    {
      "cell_type": "code",
      "source": [
        "#To test:\n",
        "val = [60, 100, 120]\n",
        "wt = [10, 20, 30]\n",
        "w = 50\n",
        "n = len(val)\n",
        "\n",
        "DP_knapSack(w, wt, val, n)"
      ],
      "metadata": {
        "colab": {
          "base_uri": "https://localhost:8080/"
        },
        "id": "GUNeEPHrd-N1",
        "outputId": "6bb38f3f-b78e-4839-dff5-f7b3eb932047"
      },
      "id": "GUNeEPHrd-N1",
      "execution_count": null,
      "outputs": [
        {
          "output_type": "execute_result",
          "data": {
            "text/plain": [
              "220"
            ]
          },
          "metadata": {},
          "execution_count": 17
        }
      ]
    },
    {
      "cell_type": "code",
      "source": [
        "#Sample for top-down DP approach (memoization)\n",
        "#initialize the list of items\n",
        "val = [60, 100, 120]\n",
        "wt = [10, 20, 30]\n",
        "w = 50\n",
        "n = len(val)\n",
        "\n",
        "#initialize the container for the values that have to be stored\n",
        "#values are initialized to -1\n",
        "calc =[[-1 for i in range(w+1)] for j in range(n+1)]\n",
        "\n",
        "\n",
        "def mem_knapSack(wt, val, w, n):\n",
        "  #base conditions\n",
        "  if n == 0 or w == 0:\n",
        "    return 0\n",
        "  if calc[n][w] != -1:\n",
        "    return calc[n][w]\n",
        "\n",
        "  #compute for the other cases\n",
        "  if wt[n-1] <= w:\n",
        "    calc[n][w] = max(val[n-1] + mem_knapSack(wt, val, w-wt[n-1], n-1),\n",
        "                     mem_knapSack(wt, val, w, n-1))\n",
        "    return calc[n][w]\n",
        "  elif wt[n-1] > w:\n",
        "    calc[n][w] = mem_knapSack(wt, val, w, n-1)\n",
        "    return calc[n][w]\n",
        "\n",
        "mem_knapSack(wt, val, w, n)"
      ],
      "metadata": {
        "id": "VgwTX-XT_0_h",
        "colab": {
          "base_uri": "https://localhost:8080/"
        },
        "outputId": "6f3c2cc6-01fc-433a-ae1e-cbb99976c028"
      },
      "id": "VgwTX-XT_0_h",
      "execution_count": null,
      "outputs": [
        {
          "output_type": "execute_result",
          "data": {
            "text/plain": [
              "220"
            ]
          },
          "metadata": {},
          "execution_count": 31
        }
      ]
    },
    {
      "cell_type": "markdown",
      "source": [
        "**Code Analysis**\n",
        "\n",
        "Type your answer here."
      ],
      "metadata": {
        "id": "-UXSSblDcF8T"
      },
      "id": "-UXSSblDcF8T"
    },
    {
      "cell_type": "markdown",
      "source": [
        "## Seatwork 2.1"
      ],
      "metadata": {
        "id": "IGsdUGCUcTFd"
      },
      "id": "IGsdUGCUcTFd"
    },
    {
      "cell_type": "markdown",
      "id": "0462053d",
      "metadata": {
        "id": "0462053d"
      },
      "source": [
        "Task 1: Modify the three techniques to include additional criterion in the knapsack problems"
      ]
    },
    {
      "cell_type": "code",
      "execution_count": null,
      "id": "ed2f6186",
      "metadata": {
        "id": "ed2f6186",
        "colab": {
          "base_uri": "https://localhost:8080/"
        },
        "outputId": "efbb07b1-c03f-4ea6-da5a-7e666933f7e5"
      },
      "outputs": [
        {
          "output_type": "stream",
          "name": "stdout",
          "text": [
            "230\n"
          ]
        }
      ],
      "source": [
        "#Recursion\n",
        "def rec_knapSack(w, wt, val, qual, n):\n",
        "    memo = {}\n",
        "\n",
        "    def knapsack(w, wt, val, qual, n):\n",
        "        if n == 0 or w == 0:\n",
        "            return 0\n",
        "\n",
        "        if (w, n) in memo:\n",
        "            return memo[(w, n)]\n",
        "\n",
        "        if wt[n - 1] > w:\n",
        "            result = knapsack(w, wt, val, qual, n - 1)\n",
        "        else:\n",
        "            with_current = val[n - 1] + qual[n - 1] + knapsack(w - wt[n - 1], wt, val, qual, n - 1)\n",
        "            without_current = knapsack(w, wt, val, qual, n - 1)\n",
        "            result = max(with_current, without_current)\n",
        "\n",
        "        memo[(w, n)] = result\n",
        "        return result\n",
        "\n",
        "    return knapsack(w, wt, val, qual, n)\n",
        "\n",
        "val = [50, 100, 150]\n",
        "wt = [60, 80, 100]\n",
        "qual = [50, 70, 80]\n",
        "w = 100\n",
        "n = len(val)\n",
        "\n",
        "print(rec_knapSack(w, wt, val, qual, n))"
      ]
    },
    {
      "cell_type": "code",
      "source": [
        "#Dynamic Programming for the Knapsack Problem\n",
        "def DP_knapSack(w, wt, val, qual, n):\n",
        "  #create the table\n",
        "  table = [[0 for x in range(w+1)] for x in range (n+1)]\n",
        "\n",
        "  #populate the table in a bottom-up approach\n",
        "  for i in range(n+1):\n",
        "    for w in range(w+1):\n",
        "      if i == 0 or w == 0:\n",
        "        table[i][w] = 0\n",
        "      elif wt[i-1] <= w:\n",
        "        table[i][w] = max(val[i-1] + qual[i-1]+ table[i-1][w-wt[i-1]],\n",
        "                          table[i-1][w])\n",
        "  return table[n][w]"
      ],
      "metadata": {
        "id": "2tDnHzKX2EVt"
      },
      "id": "2tDnHzKX2EVt",
      "execution_count": null,
      "outputs": []
    },
    {
      "cell_type": "code",
      "source": [
        "#test dynamic\n",
        "\n",
        "val=[60, 100, 120]\n",
        "wt=[10, 20, 30]\n",
        "qual= [10, 20, 30]\n",
        "w= 50\n",
        "n= len(val)\n",
        "\n",
        "print(DP_knapSack(w, wt, val, qual, n))"
      ],
      "metadata": {
        "colab": {
          "base_uri": "https://localhost:8080/"
        },
        "id": "snfMQ-577Cxz",
        "outputId": "1efa7b14-ff23-4f84-ff9c-c5eb3ec56a52"
      },
      "id": "snfMQ-577Cxz",
      "execution_count": null,
      "outputs": [
        {
          "output_type": "stream",
          "name": "stdout",
          "text": [
            "270\n"
          ]
        }
      ]
    },
    {
      "cell_type": "code",
      "source": [
        "def mem_knapSack(wt, val, qual, w, n, calc):\n",
        "    if n == 0 or w == 0:\n",
        "      return 0\n",
        "    if calc[n][w] != -1:\n",
        "      return calc[n][w]\n",
        "\n",
        "    if wt[n-1] <= w:\n",
        "      calc[n][w] = max(\n",
        "          val[n-1] + qual[n-1] + mem_knapSack(wt, val, qual, w-wt[n-1], n-1, calc),\n",
        "          mem_knapSack(wt, val, qual, w, n-1, calc)\n",
        "      )\n",
        "    else:\n",
        "        calc[n][w] = mem_knapSack(wt, val, qual, w, n-1, calc)\n",
        "\n",
        "    return calc[n][w]\n",
        "\n"
      ],
      "metadata": {
        "id": "UwD7b6uN2Ev1"
      },
      "id": "UwD7b6uN2Ev1",
      "execution_count": null,
      "outputs": []
    },
    {
      "cell_type": "code",
      "source": [
        "# To test\n",
        "val = [60, 100, 120]\n",
        "wt = [10, 20, 30]\n",
        "qual = [10, 20, 30]\n",
        "w = 50\n",
        "n = len(val)\n",
        "calc = [[-1 for i in range(w+1)] for j in range(n+1)]\n",
        "\n",
        "print(mem_knapSack(wt, val, qual, w, n, calc))"
      ],
      "metadata": {
        "colab": {
          "base_uri": "https://localhost:8080/"
        },
        "id": "VbGFK6CI_US7",
        "outputId": "5904a202-da46-4e4a-b975-a4c2a42990b9"
      },
      "id": "VbGFK6CI_US7",
      "execution_count": null,
      "outputs": [
        {
          "output_type": "stream",
          "name": "stdout",
          "text": [
            "270\n"
          ]
        }
      ]
    },
    {
      "cell_type": "markdown",
      "id": "d97e864e",
      "metadata": {
        "id": "d97e864e"
      },
      "source": [
        "Fibonacci Numbers"
      ]
    },
    {
      "cell_type": "code",
      "source": [
        "#Recuvrsive Method\n",
        "def fibonacci(n):\n",
        "  if n == 1:\n",
        "    return 0\n",
        "  if n == 2:\n",
        "    return 1\n",
        "  FiboOutput= fibonacci(n-1) + fibonacci(n-2)\n",
        "  return FiboOutput"
      ],
      "metadata": {
        "id": "HoqkUdvj_2ZZ"
      },
      "id": "HoqkUdvj_2ZZ",
      "execution_count": null,
      "outputs": []
    },
    {
      "cell_type": "code",
      "source": [
        "print('Fibonacci Numbers using Recursive method: \\n', fibonacci(10))"
      ],
      "metadata": {
        "colab": {
          "base_uri": "https://localhost:8080/"
        },
        "id": "4hDUeM9THRu0",
        "outputId": "ae1aab47-c5e4-424e-de00-96f662775fbe"
      },
      "id": "4hDUeM9THRu0",
      "execution_count": null,
      "outputs": [
        {
          "output_type": "stream",
          "name": "stdout",
          "text": [
            "Fibonacci Numbers using Recursive method: \n",
            " 34\n"
          ]
        }
      ]
    },
    {
      "cell_type": "code",
      "source": [
        "#Dynamic Method\n",
        "def fibonacci(n, memo={}):\n",
        "  if n in memo:\n",
        "    return memo[n]\n",
        "  if n == 1:\n",
        "    return 0\n",
        "  if n== 2:\n",
        "    return 1\n",
        "  memo[n]= fibonacci(n-1, memo) + fibonacci(n-2, memo)\n",
        "  return memo[n]\n",
        "#Implementation of Factorial of a number N using Memoization\n",
        "def factorial_memo(n, memo={}):\n",
        "  if n in memo:\n",
        "    return memo[n]\n",
        "  if n == 0 or n == 1:\n",
        "    return 1\n",
        "  memo[n]= n*factorial_memo(n-1, memo)\n",
        "  return memo[n]\n",
        "print(\"Output of Fibonacci using Memoization: \\n\", fibonacci(10))\n",
        "\n"
      ],
      "metadata": {
        "colab": {
          "base_uri": "https://localhost:8080/"
        },
        "id": "IUmEMTFKIv2N",
        "outputId": "9dd74688-0206-48f4-eee3-6f6adb132d1e"
      },
      "id": "IUmEMTFKIv2N",
      "execution_count": null,
      "outputs": [
        {
          "output_type": "stream",
          "name": "stdout",
          "text": [
            "Output of Fibonacci using Memoization: \n",
            " 34\n"
          ]
        }
      ]
    },
    {
      "cell_type": "code",
      "source": [
        "#Memoization method\n",
        "val = [60, 100, 120]\n",
        "wt = [10, 20, 30]\n",
        "qlty = [30, 60, 90]\n",
        "w = 50\n",
        "n = len(val)\n",
        "\n",
        "#initialize the container for the values that have to be stored\n",
        "#values are initialized to -1\n",
        "calc =[[-1 for i in range(w+1)] for j in range(n+1)]\n",
        "\n",
        "\n",
        "def mem_knapSack(wt, val, w, n, qlty):\n",
        "  #base conditions\n",
        "  if n == 0 or w == 0:\n",
        "    return 0\n",
        "  if calc[n][w] != -1:\n",
        "    return calc[n][w]\n",
        "\n",
        "  #compute for the other cases\n",
        "  if wt[n-1] <= w:\n",
        "    calc[n][w] = max(val[n-1] + mem_knapSack(wt, val, w-wt[n-1], n-1, qlty) + qlty[n-1],\n",
        "                     mem_knapSack(wt, val, w, n-1,qlty))\n",
        "    return calc[n][w]\n",
        "  elif wt[n-1] > w:\n",
        "    calc[n][w] = mem_knapSack(wt, val, w, n-1, qlty)\n",
        "    return calc[n][w]\n",
        "\n",
        "mem_knapSack(wt, val, w, n, qlty)"
      ],
      "metadata": {
        "id": "F_DVFhSZLPc0",
        "outputId": "6c5d153f-c9dc-4c31-d868-b8a6f940e31a",
        "colab": {
          "base_uri": "https://localhost:8080/"
        }
      },
      "id": "F_DVFhSZLPc0",
      "execution_count": null,
      "outputs": [
        {
          "output_type": "execute_result",
          "data": {
            "text/plain": [
              "370"
            ]
          },
          "metadata": {},
          "execution_count": 2
        }
      ]
    },
    {
      "cell_type": "markdown",
      "id": "f44e88aa",
      "metadata": {
        "id": "f44e88aa"
      },
      "source": [
        "Task 2: Create a sample program that find the nth number of Fibonacci Series using Dynamic Programming"
      ]
    },
    {
      "cell_type": "code",
      "execution_count": null,
      "id": "745871be",
      "metadata": {
        "id": "745871be",
        "colab": {
          "base_uri": "https://localhost:8080/"
        },
        "outputId": "2b1ccc44-1f6d-4388-de00-858330c7e147"
      },
      "outputs": [
        {
          "output_type": "stream",
          "name": "stdout",
          "text": [
            "4181\n"
          ]
        }
      ],
      "source": [
        "#type your code here\n",
        "def fib(n):\n",
        "    #Base cases\n",
        "    if n == 1:\n",
        "        return 0\n",
        "    if n == 2:\n",
        "        return 1\n",
        "    a, b = 0, 1\n",
        "    for _ in range(2, n):\n",
        "        a, b = b, a + b\n",
        "    return b\n",
        "print(fib(20))"
      ]
    },
    {
      "cell_type": "markdown",
      "id": "070ddd75",
      "metadata": {
        "id": "070ddd75"
      },
      "source": [
        "## Supplementary Problem (HOA 2.1 Submission):\n",
        "* Choose a real-life problem\n",
        "* Use recursion and dynamic programming to solve the problem"
      ]
    },
    {
      "cell_type": "markdown",
      "source": [
        "##The goal of this problem is to maximize needed value of items delivered in a single trip without exceeding the weight capacity of the delivery vehicle."
      ],
      "metadata": {
        "id": "GixPxn2jahpI"
      },
      "id": "GixPxn2jahpI"
    },
    {
      "cell_type": "code",
      "execution_count": null,
      "id": "86eef507",
      "metadata": {
        "id": "86eef507",
        "colab": {
          "base_uri": "https://localhost:8080/"
        },
        "outputId": "ad096b5c-0a4a-4277-d5c9-4e25b7af7cab"
      },
      "outputs": [
        {
          "output_type": "stream",
          "name": "stdout",
          "text": [
            "Maximum value (recursive): 10\n"
          ]
        }
      ],
      "source": [
        "#type your code here for recursion programming solution\n",
        "def knapsack_recursive(weights, values, W, n):\n",
        "    if n == 0 or W == 0:\n",
        "        return 0\n",
        "    if weights[n-1] > W:\n",
        "        return knapsack_recursive(weights, values, W, n-1)\n",
        "    else:\n",
        "        include_item = values[n-1] + knapsack_recursive(weights, values, W - weights[n-1], n-1)\n",
        "        exclude_item = knapsack_recursive(weights, values, W, n-1)\n",
        "        return max(include_item, exclude_item)\n",
        "weights = [2, 3, 4, 5]\n",
        "values = [3, 4, 5, 6]\n",
        "W = 8\n",
        "n = len(weights)\n",
        "print(\"Maximum value (recursive):\", knapsack_recursive(weights, values, W, n))"
      ]
    },
    {
      "cell_type": "code",
      "execution_count": null,
      "id": "73b071b6",
      "metadata": {
        "id": "73b071b6",
        "colab": {
          "base_uri": "https://localhost:8080/"
        },
        "outputId": "bf26e305-bd50-4b31-fb9c-1067fc479f1d"
      },
      "outputs": [
        {
          "output_type": "stream",
          "name": "stdout",
          "text": [
            "Maximum value (dynamic programming): 10\n"
          ]
        }
      ],
      "source": [
        "#type your code here for dynamic programming solution\n",
        "def knapsack_dp(weights, values, W):\n",
        "    n = len(weights)\n",
        "    dp = [[0 for _ in range(W + 1)] for _ in range(n + 1)]\n",
        "    for i in range(1, n + 1):\n",
        "        for w in range(1, W + 1):\n",
        "            if weights[i-1] <= w:\n",
        "                dp[i][w] = max(dp[i-1][w], dp[i-1][w-weights[i-1]] + values[i-1])\n",
        "            else:\n",
        "                dp[i][w] = dp[i-1][w]\n",
        "    return dp[n][W]\n",
        "\n",
        "weights = [2, 3, 4, 5]\n",
        "values = [3, 4, 5, 6]\n",
        "W = 8\n",
        "print(\"Maximum value (dynamic programming):\", knapsack_dp(weights, values, W))"
      ]
    },
    {
      "cell_type": "markdown",
      "id": "bb0ed6a9",
      "metadata": {
        "id": "bb0ed6a9"
      },
      "source": [
        "#### Conclusion"
      ]
    },
    {
      "cell_type": "markdown",
      "source": [
        "#This problem can be solved using recursion and dynamic programming. I choose this problem because, it is finding the best way to choose items to put in a bag without going over a weight limit. Both methods aim to maximize the total value of items without surpassing the weight limit. Recursion is straightforward but can become slow when there are lots of items. On the other hand, dynamic programming is more intricate but works faster and is more efficient for handling larger problems.\n",
        "\n"
      ],
      "metadata": {
        "id": "_0MtY4m7ZN9n"
      },
      "id": "_0MtY4m7ZN9n"
    }
  ],
  "metadata": {
    "kernelspec": {
      "display_name": "Python 3",
      "language": "python",
      "name": "python3"
    },
    "language_info": {
      "codemirror_mode": {
        "name": "ipython",
        "version": 3
      },
      "file_extension": ".py",
      "mimetype": "text/x-python",
      "name": "python",
      "nbconvert_exporter": "python",
      "pygments_lexer": "ipython3",
      "version": "3.7.10"
    },
    "colab": {
      "provenance": []
    }
  },
  "nbformat": 4,
  "nbformat_minor": 5
}